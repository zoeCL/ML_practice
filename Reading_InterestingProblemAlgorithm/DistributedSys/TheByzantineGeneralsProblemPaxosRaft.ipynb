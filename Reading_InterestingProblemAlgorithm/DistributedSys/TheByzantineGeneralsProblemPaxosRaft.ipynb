{
 "cells": [
  {
   "cell_type": "markdown",
   "id": "1fdbdcde",
   "metadata": {},
   "source": [
    "# The Byzantine Generals Problem"
   ]
  },
  {
   "cell_type": "markdown",
   "id": "eadf5f89",
   "metadata": {},
   "source": [
    "Ref: \n",
    "\n",
    "https://en.wikipedia.org/wiki/Byzantine_fault\n",
    "\n",
    "https://dl.acm.org/doi/10.1145/357172.357176"
   ]
  },
  {
   "cell_type": "markdown",
   "id": "f3f96d47",
   "metadata": {},
   "source": [
    "# Paxos"
   ]
  },
  {
   "cell_type": "markdown",
   "id": "6d2ffecb",
   "metadata": {},
   "source": [
    "Ref:\n",
    "\n",
    "https://en.wikipedia.org/wiki/Paxos_(computer_science)\n",
    "\n",
    "http://lamport.azurewebsites.net/pubs/pubs.html#web-byzpaxos\n",
    "\n",
    "https://lamport.azurewebsites.net/pubs/paxos-simple.pdf"
   ]
  },
  {
   "cell_type": "markdown",
   "id": "ddc7f204",
   "metadata": {},
   "source": [
    "#### What is Paxos:\n",
    "\n",
    "Paxos is a family of protocols for solving consensus in a network of unreliable or fallible processors. Consensus is the process of agreeing on one result among a group of participants."
   ]
  },
  {
   "cell_type": "markdown",
   "id": "28c5932e",
   "metadata": {},
   "source": [
    "#### Roles & Actions in Paxos:\n",
    "Proposer: propose (proposal)\\\n",
    "Acceptor: accept/choose (proposal)\\\n",
    "Learner: learn (the chosen proposal)"
   ]
  },
  {
   "cell_type": "markdown",
   "id": "0a00a820",
   "metadata": {},
   "source": [
    "#### The problem:\n",
    "The safety requirements for consensus are:\\\n",
    "• Only a value that has been proposed may be chosen,\\\n",
    "• Only a single value is chosen, and\\\n",
    "• A process never learns that a value has been chosen unless it actually has been.\n"
   ]
  },
  {
   "cell_type": "markdown",
   "id": "76347976",
   "metadata": {},
   "source": [
    "#### Choosing a value:\n",
    "P1.\\\n",
    "An acceptor must accept the first proposal that it receives. //Actually in a time sequence, first come (and verified to accept), first accept.\\\n",
    "A value is chosen when a single proposal with that value (with it's proposal number) has been accepted by a majority of the acceptors. //If we focus on the individual, could lead to a non-consensus end that each acceptor has a different choice.\\\n",
    "An acceptor can accept a proposal numbered n iff it has not responded to a prepare request having a number greater than n. //In a distributed system, the time delay/leader reselection/etc. might lead to such situation that an acceptor receives a proposal number smaller than its' lastest accepted proposal number, then this proposal should be turned down.\\\n",
    "P2.\\\n",
    "If a proposal with value v is chosen, then every higher-numbered proposal that is chosen has value v.\\\n",
    "Meaning, for the proposal numbered m to be chosen, there must be some set C consisting of a majority of acceptors such that every acceptor in C has accepted a proposal with number in m . .(n − 1), and every proposal with number in m . .(n − 1) accepted by any acceptor has value v."
   ]
  },
  {
   "cell_type": "markdown",
   "id": "91ad2260",
   "metadata": {},
   "source": [
    "#### Algorithm in two phases:\n",
    "Phase 1. (a) A proposer selects a proposal number n and sends a prepare request with number n to a majority of acceptors.\\\n",
    "(b) If an acceptor receives a prepare request with number n greater than that of any prepare request to which it has already responded, then it responds to the request with a promise not to accept any more proposals numbered less than n and with the highest-numbered proposal (if any) that it has accepted.\n",
    "\n",
    "Phase 2. (a) If the proposer receives a response to its prepare requests (numbered n) from a majority of acceptors, then it sends an accept request to each of those acceptors for a proposal numbered n with a value v, where v is the value of the highest-numbered proposal among the responses, or is any value if the responses reported no proposals.\\\n",
    "(b) If an acceptor receives an accept request for a proposal numbered n, it accepts the proposal unless it has already responded to a prepare request having a number greater than n."
   ]
  },
  {
   "cell_type": "markdown",
   "id": "1d058fdd",
   "metadata": {},
   "source": [
    "# Raft"
   ]
  },
  {
   "cell_type": "markdown",
   "id": "f2523422",
   "metadata": {},
   "source": [
    "ref:\n",
    "\n",
    "http://mpaxos.com/teaching/ds/20fa/readings/raft.pdf"
   ]
  }
 ],
 "metadata": {
  "kernelspec": {
   "display_name": "conda_pyfun",
   "language": "python",
   "name": "pyfun"
  },
  "language_info": {
   "codemirror_mode": {
    "name": "ipython",
    "version": 3
   },
   "file_extension": ".py",
   "mimetype": "text/x-python",
   "name": "python",
   "nbconvert_exporter": "python",
   "pygments_lexer": "ipython3",
   "version": "3.10.8"
  }
 },
 "nbformat": 4,
 "nbformat_minor": 5
}
